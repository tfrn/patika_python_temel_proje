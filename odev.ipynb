{
 "cells": [
  {
   "cell_type": "markdown",
   "metadata": {},
   "source": [
    "flatten fonksiyon;"
   ]
  },
  {
   "cell_type": "code",
   "execution_count": 2,
   "metadata": {},
   "outputs": [
    {
     "name": "stdout",
     "output_type": "stream",
     "text": [
      "[1, 'a', 'cat', 2, 3, 'dog', 4, 5]\n"
     ]
    }
   ],
   "source": [
    "def flatten (a,b):\n",
    "\n",
    "    for i in a:\n",
    "        if type(i) != type([]):\n",
    "            b.append(i)\n",
    "        elif type(i) == type([]):\n",
    "            flatten(i, b)\n",
    "    return b\n",
    "\n",
    "\n",
    "arr = [[1,'a',['cat'],2],[[[3]],'dog'],4,5]\n",
    "f_list = []\n",
    " \n",
    "print(flatten(arr, f_list))"
   ]
  },
  {
   "cell_type": "markdown",
   "metadata": {},
   "source": [
    "reversed list fonksiyon;"
   ]
  },
  {
   "cell_type": "code",
   "execution_count": 4,
   "metadata": {},
   "outputs": [
    {
     "name": "stdout",
     "output_type": "stream",
     "text": [
      "[[7, 6, 5], [4, 3], [2, 1]]\n"
     ]
    }
   ],
   "source": [
    "def reversed_list (arr):\n",
    "    \n",
    "    for i in range(len(arr)):\n",
    "        if type(arr[i]) == type([]):\n",
    "            arr[i] = arr[i][::-1]\n",
    "            reversed_list(arr[i])\n",
    "    \n",
    "    return (arr[::-1])\n",
    "\n",
    "arr =  [[1, 2], [3, 4], [5, 6, 7]]\n",
    "print(reversed_list(arr))"
   ]
  }
 ],
 "metadata": {
  "kernelspec": {
   "display_name": "Python 3",
   "language": "python",
   "name": "python3"
  },
  "language_info": {
   "codemirror_mode": {
    "name": "ipython",
    "version": 3
   },
   "file_extension": ".py",
   "mimetype": "text/x-python",
   "name": "python",
   "nbconvert_exporter": "python",
   "pygments_lexer": "ipython3",
   "version": "3.12.1"
  }
 },
 "nbformat": 4,
 "nbformat_minor": 2
}
